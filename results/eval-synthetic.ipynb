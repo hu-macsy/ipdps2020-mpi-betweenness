{
 "cells": [
  {
   "cell_type": "code",
   "execution_count": 2,
   "metadata": {},
   "outputs": [],
   "source": [
    "import matplotlib\n",
    "import matplotlib.pyplot as plt\n",
    "import numpy as np\n",
    "import pandas\n",
    "import re\n",
    "from scipy.stats import gmean\n",
    "import simexpal\n",
    "import yaml"
   ]
  },
  {
   "cell_type": "code",
   "execution_count": 5,
   "metadata": {},
   "outputs": [
    {
     "name": "stdout",
     "output_type": "stream",
     "text": [
      "Skipping failed run n16x2/friendster.tf[0]\n"
     ]
    }
   ],
   "source": [
    "cfg = simexpal.config_for_dir()\n",
    "\n",
    "raw_data = []\n",
    "def parse_fn(run, f):\n",
    "    match = re.match(r'^(hyperbolic|rmat)-sc(\\d+)-', run.instance.shortname)\n",
    "    if not match:\n",
    "        return\n",
    "    assert run.experiment.name.endswith('x2')\n",
    "    yml = yaml.load(f, Loader=yaml.SafeLoader)\n",
    "    exp = run.experiment.revision.name\n",
    "    raw_data.append({\n",
    "        'exp': exp + '-x2',\n",
    "        'inst': run.instance.shortname,\n",
    "        'model': match.group(1),\n",
    "        'scale': match.group(2),\n",
    "        'procs': yml['num_procs'] / 2,\n",
    "        'n': yml['num_nodes'],\n",
    "        'time': yml['time'],\n",
    "        'time_phase2': yml.get('mtime_phase2', 0) / 1000,\n",
    "        'epochs': yml['num_epochs'],\n",
    "        'samples': yml['num_samples']\n",
    "    })\n",
    "\n",
    "cfg.collect_successful_results(parse_fn)\n",
    "raw_df = pandas.DataFrame(raw_data)"
   ]
  },
  {
   "cell_type": "code",
   "execution_count": 6,
   "metadata": {},
   "outputs": [
    {
     "data": {
      "text/html": [
       "<div>\n",
       "<style scoped>\n",
       "    .dataframe tbody tr th:only-of-type {\n",
       "        vertical-align: middle;\n",
       "    }\n",
       "\n",
       "    .dataframe tbody tr th {\n",
       "        vertical-align: top;\n",
       "    }\n",
       "\n",
       "    .dataframe thead th {\n",
       "        text-align: right;\n",
       "    }\n",
       "</style>\n",
       "<table border=\"1\" class=\"dataframe\">\n",
       "  <thead>\n",
       "    <tr style=\"text-align: right;\">\n",
       "      <th></th>\n",
       "      <th>time_vertex</th>\n",
       "    </tr>\n",
       "    <tr>\n",
       "      <th>scale</th>\n",
       "      <th></th>\n",
       "    </tr>\n",
       "  </thead>\n",
       "  <tbody>\n",
       "    <tr>\n",
       "      <td>23</td>\n",
       "      <td>2.095103</td>\n",
       "    </tr>\n",
       "    <tr>\n",
       "      <td>24</td>\n",
       "      <td>2.232492</td>\n",
       "    </tr>\n",
       "    <tr>\n",
       "      <td>25</td>\n",
       "      <td>1.519352</td>\n",
       "    </tr>\n",
       "    <tr>\n",
       "      <td>26</td>\n",
       "      <td>2.008393</td>\n",
       "    </tr>\n",
       "  </tbody>\n",
       "</table>\n",
       "</div>"
      ],
      "text/plain": [
       "       time_vertex\n",
       "scale             \n",
       "23        2.095103\n",
       "24        2.232492\n",
       "25        1.519352\n",
       "26        2.008393"
      ]
     },
     "execution_count": 6,
     "metadata": {},
     "output_type": "execute_result"
    }
   ],
   "source": [
    "df = raw_df.copy()\n",
    "df['time_vertex'] = df['time_phase2'] / df['n'] * 1000000\n",
    "avg_df = df.groupby(['model', 'scale']).agg({'time_vertex': 'mean'}).sort_index()\n",
    "avg_df.loc['hyperbolic']"
   ]
  },
  {
   "cell_type": "code",
   "execution_count": 7,
   "metadata": {},
   "outputs": [
    {
     "data": {
      "text/html": [
       "<div>\n",
       "<style scoped>\n",
       "    .dataframe tbody tr th:only-of-type {\n",
       "        vertical-align: middle;\n",
       "    }\n",
       "\n",
       "    .dataframe tbody tr th {\n",
       "        vertical-align: top;\n",
       "    }\n",
       "\n",
       "    .dataframe thead th {\n",
       "        text-align: right;\n",
       "    }\n",
       "</style>\n",
       "<table border=\"1\" class=\"dataframe\">\n",
       "  <thead>\n",
       "    <tr style=\"text-align: right;\">\n",
       "      <th></th>\n",
       "      <th>time_vertex</th>\n",
       "    </tr>\n",
       "    <tr>\n",
       "      <th>scale</th>\n",
       "      <th></th>\n",
       "    </tr>\n",
       "  </thead>\n",
       "  <tbody>\n",
       "    <tr>\n",
       "      <td>23</td>\n",
       "      <td>0.147939</td>\n",
       "    </tr>\n",
       "    <tr>\n",
       "      <td>24</td>\n",
       "      <td>0.353634</td>\n",
       "    </tr>\n",
       "    <tr>\n",
       "      <td>25</td>\n",
       "      <td>0.323355</td>\n",
       "    </tr>\n",
       "    <tr>\n",
       "      <td>26</td>\n",
       "      <td>0.135645</td>\n",
       "    </tr>\n",
       "  </tbody>\n",
       "</table>\n",
       "</div>"
      ],
      "text/plain": [
       "       time_vertex\n",
       "scale             \n",
       "23        0.147939\n",
       "24        0.353634\n",
       "25        0.323355\n",
       "26        0.135645"
      ]
     },
     "execution_count": 7,
     "metadata": {},
     "output_type": "execute_result"
    }
   ],
   "source": [
    "error_df = df.join(avg_df, on=['model', 'scale'], rsuffix='_avg')\n",
    "error_df['time_vertex'] -= error_df['time_vertex_avg']\n",
    "min_df = error_df.groupby(['model', 'scale']).agg({'time_vertex': 'min'}).sort_index().abs()\n",
    "max_df = error_df.groupby(['model', 'scale']).agg({'time_vertex': 'max'}).sort_index().abs()\n",
    "min_df.loc['hyperbolic']"
   ]
  },
  {
   "cell_type": "code",
   "execution_count": 8,
   "metadata": {},
   "outputs": [],
   "source": [
    "font = {'family' : 'normal',\n",
    "        'weight' : 'normal',\n",
    "        'size'   : 6}\n",
    "\n",
    "matplotlib.rc('font', **font)\n",
    "matplotlib.rc('text', usetex=False)\n",
    "\n",
    "default_xsize = 1.5"
   ]
  },
  {
   "cell_type": "code",
   "execution_count": 10,
   "metadata": {},
   "outputs": [
    {
     "data": {
      "image/png": "[encoded data removed]",
      "text/plain": [
       "<Figure size 108x81 with 1 Axes>"
      ]
     },
     "metadata": {
      "needs_background": "light"
     },
     "output_type": "display_data"
    },
    {
     "data": {
      "image/png": "[encoded data removed]",
      "text/plain": [
       "<Figure size 108x81 with 1 Axes>"
      ]
     },
     "metadata": {
      "needs_background": "light"
     },
     "output_type": "display_data"
    }
   ],
   "source": [
    "xsize = 1.5\n",
    "ysize = default_xsize * 0.75\n",
    "\n",
    "for model in ['rmat', 'hyperbolic']:\n",
    "    fig, ax = plt.subplots()\n",
    "    fig.set_size_inches(xsize, ysize)\n",
    "    plt.xlabel('$\\log_2$ |V|')\n",
    "    plt.ylabel('time/|V| (ms)')\n",
    "    errors=(min_df.loc[model]['time_vertex'], max_df.loc[model]['time_vertex'])\n",
    "    plt.errorbar([23, 24, 25, 26], avg_df.loc[model]['time_vertex'], yerr=errors, color='black', label='ADS')\n",
    "    plt.xticks([23, 24, 25, 26])\n",
    "    ax.get_xaxis().set_major_formatter(matplotlib.ticker.ScalarFormatter())\n",
    "    #ax.get_yaxis().set_major_formatter(matplotlib.ticker.ScalarFormatter())\n",
    "    ax.minorticks_off()\n",
    "    plt.grid()\n",
    "    plt.legend()\n",
    "    plt.savefig('gen/synthetic-' + model + '.pdf', format='pdf', bbox_inches = 'tight')\n",
    "    plt.show()"
   ]
  },
  {
   "cell_type": "code",
   "execution_count": null,
   "metadata": {},
   "outputs": [],
   "source": [
    "avg_df.loc['rmat', '26']['time_vertex'] / avg_df.loc['rmat', '23']['time_vertex']"
   ]
  }
 ],
 "metadata": {
  "kernelspec": {
   "display_name": "Python 3",
   "language": "python",
   "name": "python3"
  },
  "language_info": {
   "codemirror_mode": {
    "name": "ipython",
    "version": 3
   },
   "file_extension": ".py",
   "mimetype": "text/x-python",
   "name": "python",
   "nbconvert_exporter": "python",
   "pygments_lexer": "ipython3",
   "version": "3.6.8"
  }
 },
 "nbformat": 4,
 "nbformat_minor": 4
}
