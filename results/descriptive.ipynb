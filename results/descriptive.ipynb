{
 "cells": [
  {
   "cell_type": "code",
   "execution_count": 15,
   "metadata": {},
   "outputs": [],
   "source": [
    "import simexpal\n",
    "import pandas\n",
    "from scipy.stats import gmean\n",
    "import yaml"
   ]
  },
  {
   "cell_type": "code",
   "execution_count": 13,
   "metadata": {},
   "outputs": [
    {
     "name": "stdout",
     "output_type": "stream",
     "text": [
      "Skipping unfinished run n16x2/rmat-sc25-s2.tf[0]\n"
     ]
    },
    {
     "data": {
      "text/plain": [
       "[{'inst': 'dbpedia-link', 'n': 18265512, 'm': 136535446, 'diam': 12},\n",
       " {'inst': 'dimacs10-uk-2002', 'n': 18459128, 'm': 261556721, 'diam': 45},\n",
       " {'inst': 'dimacs10-uk-2007-05', 'n': 104288749, 'm': 3293805080, 'diam': 112},\n",
       " {'inst': 'dimacs9-NE', 'n': 1524453, 'm': 3868020, 'diam': 2098},\n",
       " {'inst': 'friendster', 'n': 67492106, 'm': 2585071391, 'diam': 38},\n",
       " {'inst': 'orkut-links', 'n': 3072441, 'm': 117184899, 'diam': 10},\n",
       " {'inst': 'roadNet-CA', 'n': 1957027, 'm': 2760388, 'diam': 865},\n",
       " {'inst': 'roadNet-PA', 'n': 1087562, 'm': 1541514, 'diam': 794},\n",
       " {'inst': 'twitter', 'n': 41652230, 'm': 1468365480, 'diam': 23},\n",
       " {'inst': 'wikipedia_link_en', 'n': 13591759, 'm': 437266152, 'diam': 10}]"
      ]
     },
     "execution_count": 13,
     "metadata": {},
     "output_type": "execute_result"
    }
   ],
   "source": [
    "cfg = simexpal.config_for_dir()\n",
    "\n",
    "diameters = {\n",
    "    'dbpedia-link': 12,\n",
    "    'dimacs10-uk-2002': 45,\n",
    "    'dimacs10-uk-2007-05': 112,\n",
    "    'dimacs9-NE': 2098,\n",
    "    'friendster': 38,\n",
    "    'orkut-links': 10,\n",
    "    'roadNet-CA': 865,\n",
    "    'roadNet-PA': 794,\n",
    "    'twitter': 23,\n",
    "    'wikipedia_link_en': 10\n",
    "}\n",
    "\n",
    "raw_data = []\n",
    "for run, f in cfg.collect_successful_results():\n",
    "    if run.experiment.revision.name != 'optI-reduction':\n",
    "        continue\n",
    "    if run.instance.shortname.startswith('hyperbolic') or run.instance.shortname.startswith('rmat'):\n",
    "        continue\n",
    "    if not run.experiment.name.endswith('x2'):\n",
    "        continue\n",
    "    yml = yaml.load(f, Loader=yaml.SafeLoader)\n",
    "    if yml['num_procs'] / 2 != 16:\n",
    "        continue\n",
    "    kname = run.instance.shortname.replace('.tf', '')\n",
    "    raw_data.append({\n",
    "        'inst': kname,\n",
    "        'n': yml['num_nodes'],\n",
    "        'm': yml['num_edges'],\n",
    "        'diam': diameters[kname]\n",
    "    })\n",
    "raw_data"
   ]
  },
  {
   "cell_type": "code",
   "execution_count": 14,
   "metadata": {},
   "outputs": [],
   "source": [
    "with open('gen/inst-table.tex', 'w') as f:\n",
    "    for info in sorted(raw_data, key=lambda info: info['m']):\n",
    "        escaped_name = info['inst'].replace('_', '\\\\_')\n",
    "        f.write('{} & \\\\numprint{{{}}} & \\\\numprint{{{}}} & \\\\numprint{{{}}} \\\\\\\\\\n'.format(\n",
    "            escaped_name, info['n'], info['m'], info['diam']))"
   ]
  }
 ],
 "metadata": {
  "kernelspec": {
   "display_name": "Python 3 (ipykernel)",
   "language": "python",
   "name": "python3"
  },
  "language_info": {
   "codemirror_mode": {
    "name": "ipython",
    "version": 3
   },
   "file_extension": ".py",
   "mimetype": "text/x-python",
   "name": "python",
   "nbconvert_exporter": "python",
   "pygments_lexer": "ipython3",
   "version": "3.8.13"
  }
 },
 "nbformat": 4,
 "nbformat_minor": 4
}
